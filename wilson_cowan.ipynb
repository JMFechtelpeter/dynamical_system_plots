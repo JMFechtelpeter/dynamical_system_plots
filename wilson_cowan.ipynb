{
 "cells": [
  {
   "cell_type": "code",
   "execution_count": null,
   "metadata": {},
   "outputs": [],
   "source": [
    "from phase_plane import DynamicalSystem2D\n",
    "\n",
    "xdot = lambda x, y, tau_exc, prop_exc, "
   ]
  }
 ],
 "metadata": {
  "language_info": {
   "name": "python"
  }
 },
 "nbformat": 4,
 "nbformat_minor": 2
}
