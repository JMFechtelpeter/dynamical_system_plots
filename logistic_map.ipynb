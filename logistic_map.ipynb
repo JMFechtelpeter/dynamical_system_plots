{
 "cells": [
  {
   "cell_type": "markdown",
   "metadata": {},
   "source": [
    "Cobweb Plot of the Logistic Map"
   ]
  },
  {
   "cell_type": "code",
   "execution_count": null,
   "metadata": {},
   "outputs": [],
   "source": [
    "from IPython.display import set_matplotlib_formats\n",
    "set_matplotlib_formats('retina')\n",
    "from discrete_DS import CobwebPlot\n",
    "\n",
    "r = 3.5\n",
    "\n",
    "recursion = lambda x: r * x * (1-x)\n",
    "\n",
    "cobweb_plot = CobwebPlot(recursion, 0.75, xlim=(0,1), T=300)\n",
    "cobweb_plot.plot_diagonal()\n",
    "cobweb_plot.plot_curve(recursion)"
   ]
  },
  {
   "cell_type": "markdown",
   "metadata": {},
   "source": [
    "Bifurcation Plot of the Logistic Map for $0<r<4$"
   ]
  },
  {
   "cell_type": "code",
   "execution_count": null,
   "metadata": {},
   "outputs": [],
   "source": [
    "from discrete_DS import BifurcationPlot\n",
    "import numpy as np\n",
    "import numba\n",
    "\n",
    "@numba.njit()\n",
    "def recursion(x, r):\n",
    "    return r * x * (1-x)\n",
    "\n",
    "bifurcation_plot = BifurcationPlot(recursion, np.arange(0.001,4,0.001), 1e-6, 1-(1e-6), n_trajectories=1000,\n",
    "                                   T=500, fig_kwargs={'figsize':(8,4.8)})"
   ]
  },
  {
   "cell_type": "markdown",
   "metadata": {},
   "source": [
    "Bifurcation Plot of the Logistic Map for $3.44<r<3.57$"
   ]
  },
  {
   "cell_type": "code",
   "execution_count": null,
   "metadata": {},
   "outputs": [],
   "source": [
    "@numba.njit()\n",
    "def recursion(x, r):\n",
    "    return r * x * (1-x)\n",
    "\n",
    "bifurcation_plot = BifurcationPlot(recursion, np.arange(3.44,3.57,0.0001), 1e-6, 1-(1e-6), n_trajectories=1000, T=500)"
   ]
  },
  {
   "cell_type": "markdown",
   "metadata": {},
   "source": [
    "Cobweb Plot for the $r=3.835$, where there is a 3-cycle"
   ]
  },
  {
   "cell_type": "code",
   "execution_count": null,
   "metadata": {},
   "outputs": [],
   "source": [
    "r=3.835\n",
    "\n",
    "recursion = lambda x: r * x * (1-x)\n",
    "\n",
    "f1 = lambda x: recursion(x)\n",
    "f2 = lambda x: f1(f1(x))\n",
    "f3 = lambda x: f1(f2(x))\n",
    "f4 = lambda x: f2(f2(x))\n",
    "\n",
    "plot_function = f3\n",
    "x0 = 0.7\n",
    "plot = CobwebPlot(plot_function, x0)\n",
    "plot.plot_curve(plot_function, support_lim=(0,1), points=500)\n",
    "plot.ax.plot((0,1),(0,1))"
   ]
  },
  {
   "cell_type": "markdown",
   "metadata": {},
   "source": [
    "Cobweb plot for the $r\\sin(\\pi x_t )$ map"
   ]
  },
  {
   "cell_type": "code",
   "execution_count": null,
   "metadata": {},
   "outputs": [],
   "source": [
    "r=0.7\n",
    "\n",
    "rsinpix = lambda x: r * np.sin(np.pi*x)\n",
    "\n",
    "cobweb_plot = CobwebPlot(rsinpix, 0.75)\n",
    "cobweb_plot.plot_diagonal()\n",
    "cobweb_plot.plot_curve(rsinpix)"
   ]
  },
  {
   "cell_type": "markdown",
   "metadata": {},
   "source": [
    "Find bifurcations"
   ]
  },
  {
   "cell_type": "code",
   "execution_count": null,
   "metadata": {},
   "outputs": [],
   "source": [
    "from discrete_DS import PeriodDoublingBifurcationFinder\n",
    "\n",
    "@numba.njit('float64[:,:](float64[:],int64,float64[:],int64)', parallel=True)\n",
    "def mod_logistic_map(x0, T, r, L):\n",
    "    ''' Iterates the logistic map T times from n initial conditions x0 and n r-values r.\n",
    "        Returns the last L results. '''\n",
    "    a = x0.size    # Number of initial conditions\n",
    "    ret = np.zeros((a, L))      \n",
    "    ret[:,0] = x0\n",
    "    for i in range(ret.shape[0]):\n",
    "        for t in range(1, T):\n",
    "            t = np.mod(t, ret.shape[1])\n",
    "            ret[i,t] = r[i]*ret[i,t-1]*(1-ret[i,t-1])\n",
    "    return ret\n",
    "\n",
    "'(x0, T, r, n_points)'\n",
    "\n",
    "BF = PeriodDoublingBifurcationFinder(mod_logistic_map, (3.44,3.57))\n",
    "for i in range(7):\n",
    "    BF.find_next_bifurcation()\n",
    "print(BF.bifurcations)"
   ]
  },
  {
   "cell_type": "code",
   "execution_count": null,
   "metadata": {},
   "outputs": [],
   "source": [
    "@numba.njit('float64[:,:](float64[:],int64,float64[:],int64)', parallel=True)\n",
    "def mod_rsinpix_map(x0, T, r, L):\n",
    "    ''' Iterates the r*sin(pi*x) map T times from n initial conditions x0 and n r-values r.\n",
    "        Returns the last L results. '''\n",
    "    a = x0.size    # Number of initial conditions\n",
    "    ret = np.zeros((a, L))      \n",
    "    ret[:,0] = x0\n",
    "    for i in range(ret.shape[0]):\n",
    "        for t in range(1, T):\n",
    "            t = np.mod(t, ret.shape[1])\n",
    "            ret[i,t] = r[i]*np.sin(np.pi*ret[i,t-1])\n",
    "    return ret\n",
    "\n",
    "'(x0, T, r, n_points)'\n",
    "\n",
    "BF = PeriodDoublingBifurcationFinder(mod_rsinpix_map, (0.82,1.0))\n",
    "for i in range(7):\n",
    "    BF.find_next_bifurcation()\n",
    "print(BF.bifurcations)"
   ]
  }
 ],
 "metadata": {
  "kernelspec": {
   "display_name": ".venv",
   "language": "python",
   "name": "python3"
  },
  "language_info": {
   "codemirror_mode": {
    "name": "ipython",
    "version": 3
   },
   "file_extension": ".py",
   "mimetype": "text/x-python",
   "name": "python",
   "nbconvert_exporter": "python",
   "pygments_lexer": "ipython3",
   "version": "3.10.11"
  }
 },
 "nbformat": 4,
 "nbformat_minor": 2
}
